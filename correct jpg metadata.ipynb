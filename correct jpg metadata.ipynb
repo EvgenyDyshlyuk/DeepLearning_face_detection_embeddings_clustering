{
 "cells": [
  {
   "cell_type": "markdown",
   "metadata": {},
   "source": [
    "# Change jpg files creation times metadata\n",
    "It is often that metadata for jpg files is wrong (e.g. the camera was not set correctly)"
   ]
  },
  {
   "cell_type": "code",
   "execution_count": 1,
   "metadata": {},
   "outputs": [],
   "source": [
    "import os\n",
    "from PIL import Image\n",
    "from datetime import datetime\n",
    "import piexif"
   ]
  },
  {
   "cell_type": "code",
   "execution_count": 75,
   "metadata": {},
   "outputs": [],
   "source": [
    "def get_jpg_filenames(directory):\n",
    "    list_of_jpg = []\n",
    "    for (dirpath, dirnames, filenames) in os.walk(directory):\n",
    "        list_of_jpg   += [os.path.join(dirpath, file) for file in filenames if (file[-3:] == 'jpg') or (file[-3:] == 'JPG')]\n",
    "    return list_of_jpg\n",
    "\n",
    "def get_creation_time(full_path):\n",
    "    image = Image.open(full_path)\n",
    "    exif = image.getexif()\n",
    "    creation_date = exif.get(36867)\n",
    "    return creation_date\n",
    "\n",
    "def get_creation_times(list_of_jpg):\n",
    "    list_of_creation_times = []\n",
    "    for jpg in list_of_jpg:\n",
    "        try:\n",
    "            image = Image.open(jpg)\n",
    "            exif = image.getexif()\n",
    "            creation_time = exif.get(36867)\n",
    "        except:\n",
    "            creation_time = None\n",
    "        list_of_creation_times.append(creation_time)\n",
    "    return list_of_creation_times\n",
    "\n",
    "def change_jpg_datetime(filename, year, month, day):\n",
    "    full_path = os.path.join(directory, filename)\n",
    "    exif_dict = piexif.load(full_path)\n",
    "    exif_dict['Exif'] = { piexif.ExifIFD.DateTimeOriginal: datetime(year, month, day, 0, 0, 0).strftime(\"%Y:%m:%d %H:%M:%S\") }\n",
    "    exif_bytes = piexif.dump(exif_dict)\n",
    "    piexif.insert(exif_bytes, filename)\n",
    "\n",
    "def change_jpg_list_datetime(jpg_filenames_list, year, month, day):\n",
    "    for filename in jpg_filenames_list:\n",
    "        full_path = os.path.join(directory, filename)\n",
    "        exif_dict = piexif.load(full_path)\n",
    "        exif_dict['Exif'] = {piexif.ExifIFD.DateTimeOriginal: datetime(year, month, day, 0, 0, 0).strftime(\"%Y:%m:%d %H:%M:%S\")}\n",
    "        exif_bytes = piexif.dump(exif_dict)\n",
    "        piexif.insert(exif_bytes, filename)\n",
    "        \n",
    "def creation_times_range(creation_times_list):\n",
    "    try:\n",
    "        year =  [int(x[0:4]) for x in creation_times_list if x != None]\n",
    "        month =  [int(x[5:7]) for x in creation_times_list if x != None]\n",
    "        day = [int(x[8:10]) for x in creation_times_list if x != None]\n",
    "        print('Files from:',min(year),':',min(month),':',min(day), 'to:', max(year),':',max(month),':',max(day))\n",
    "    except:\n",
    "        print('Warning!!! Some files with unknown time')\n",
    "        if None in creation_times_list:\n",
    "            print('Warning!!! Some files with creation time == None in the directory')"
   ]
  },
  {
   "cell_type": "code",
   "execution_count": null,
   "metadata": {},
   "outputs": [],
   "source": [
    "%%time\n",
    "# Scan over immediate subfolders in the main directory folder and check creation times (period) within these subfolders\n",
    "\n",
    "directory = 'D:\\Photo'\n",
    "list_subfolders_with_paths = [f.path for f in os.scandir(directory) if f.is_dir()]\n",
    "print('Number of immediate subfolders: ', len(list_subfolders_with_paths))\n",
    "print()\n",
    "for idx, subdirectory in enumerate(list_subfolders_with_paths):\n",
    "    print(idx)\n",
    "    print(subdirectory)\n",
    "    jpg_filenames_list = get_jpg_filenames(subdirectory)\n",
    "    print(len(jpg_filenames_list), 'jpg files in subdirectory')\n",
    "    creation_times_list = get_creation_times(jpg_filenames_list)\n",
    "    creation_times_range(creation_times_list)\n",
    "    print()"
   ]
  },
  {
   "cell_type": "code",
   "execution_count": 121,
   "metadata": {},
   "outputs": [
    {
     "name": "stdout",
     "output_type": "stream",
     "text": [
      "Files from: 2007 : 1 : 1 to: 2010 : 9 : 31\n"
     ]
    }
   ],
   "source": [
    "# Check creation times in one of the subfolders (folder):\n",
    "directory = r'D:\\Photo\\2010.08.31-09.11 Майорка'\n",
    "jpg_filenames_list = get_jpg_filenames(directory)\n",
    "\n",
    "creation_times_list = get_creation_times(jpg_filenames_list)\n",
    "creation_times_range(creation_times_list)"
   ]
  },
  {
   "cell_type": "code",
   "execution_count": 119,
   "metadata": {},
   "outputs": [
    {
     "name": "stdout",
     "output_type": "stream",
     "text": [
      "Files from: 2010 : 12 : 31 to: 2010 : 12 : 31\n"
     ]
    }
   ],
   "source": [
    "# Change creation times in the folder for all jpg files\n",
    "# change_jpg_list_datetime(jpg_filenames_list, 2010, 9, 11)\n",
    "# creation_times_list = get_creation_times(jpg_filenames_list)\n",
    "# creation_times_range(creation_times_list)"
   ]
  },
  {
   "cell_type": "code",
   "execution_count": 56,
   "metadata": {},
   "outputs": [],
   "source": [
    "# Change single file creation datetime\n",
    "# filename = r'C:\\Users\\evgen\\OneDrive - Imperial College London\\ML\\Face\\Photo\\4.jpg'\n",
    "# change_jpg_datetime(filename, 2014, 3, 10)"
   ]
  }
 ],
 "metadata": {
  "kernelspec": {
   "display_name": "Python 3",
   "language": "python",
   "name": "python3"
  },
  "language_info": {
   "codemirror_mode": {
    "name": "ipython",
    "version": 3
   },
   "file_extension": ".py",
   "mimetype": "text/x-python",
   "name": "python",
   "nbconvert_exporter": "python",
   "pygments_lexer": "ipython3",
   "version": "3.6.10"
  }
 },
 "nbformat": 4,
 "nbformat_minor": 4
}
